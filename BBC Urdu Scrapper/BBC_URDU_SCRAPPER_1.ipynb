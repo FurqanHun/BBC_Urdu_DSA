{
 "cells": [
  {
   "cell_type": "code",
   "execution_count": 1,
   "metadata": {},
   "outputs": [],
   "source": [
    "# import libraries \n",
    "\n",
    "from bs4 import BeautifulSoup\n",
    "import requests\n",
    "from time import sleep\n",
    "from datetime import datetime\n",
    "import csv\n",
    "import re\n",
    "import pandas as pd\n"
   ]
  },
  {
   "cell_type": "code",
   "execution_count": 36,
   "metadata": {},
   "outputs": [],
   "source": [
    "# with open('BBC_Urdu.csv', 'w', newline='', encoding='utf-8') as f:\n",
    "#     fieldnames = ['Title', 'Topic', 'Timestamp', 'Link']\n",
    "#     thewriter = csv.DictWriter(f, fieldnames=fieldnames)\n",
    "#     thewriter.writeheader()\n",
    "\n",
    "# # commented cuz ion wanna accidently snap the data ;)"
   ]
  },
  {
   "cell_type": "code",
   "execution_count": 37,
   "metadata": {},
   "outputs": [
    {
     "ename": "KeyboardInterrupt",
     "evalue": "",
     "output_type": "error",
     "traceback": [
      "\u001b[1;31m---------------------------------------------------------------------------\u001b[0m",
      "\u001b[1;31mKeyboardInterrupt\u001b[0m                         Traceback (most recent call last)",
      "Cell \u001b[1;32mIn[37], line 38\u001b[0m\n\u001b[0;32m     35\u001b[0m     thewriter \u001b[38;5;241m=\u001b[39m csv\u001b[38;5;241m.\u001b[39mDictWriter(f, fieldnames\u001b[38;5;241m=\u001b[39mfieldnames)\n\u001b[0;32m     36\u001b[0m     thewriter\u001b[38;5;241m.\u001b[39mwriterow({\u001b[38;5;124m'\u001b[39m\u001b[38;5;124mTitle\u001b[39m\u001b[38;5;124m'\u001b[39m: title, \u001b[38;5;124m'\u001b[39m\u001b[38;5;124mTopic\u001b[39m\u001b[38;5;124m'\u001b[39m: topic, \u001b[38;5;124m'\u001b[39m\u001b[38;5;124mTimestamp\u001b[39m\u001b[38;5;124m'\u001b[39m: timestamp, \u001b[38;5;124m'\u001b[39m\u001b[38;5;124mLink\u001b[39m\u001b[38;5;124m'\u001b[39m: link})\n\u001b[1;32m---> 38\u001b[0m sleep(\u001b[38;5;241m5\u001b[39m)\n",
      "\u001b[1;31mKeyboardInterrupt\u001b[0m: "
     ]
    }
   ],
   "source": [
    "headers = {\"User-Agent\": \"Mozilla/5.0 (Windows NT 10.0; Win64; x64) AppleWebKit/537.36 (KHTML, like Gecko) Chrome/116.0.0.0 Safari/537.36 OPR/102.0.0.0\"}\n",
    "i = 0\n",
    "#Read the existing data\n",
    "df = pd.read_csv('BBC_Urdu.csv')\n",
    "\n",
    "for i in range(1, 41, 1):  # (start, end, intervals)\n",
    "    urls = [f\"https://www.bbc.com/urdu/topics/cjgn7n9zzq7t?page={i}\",\n",
    "            f\"https://www.bbc.com/urdu/topics/cl8l9mveql2t?page={i}\",\n",
    "            f\"https://www.bbc.com/urdu/topics/cw57v2pmll9t?page={i}\",\n",
    "            f\"https://www.bbc.com/urdu/topics/c340q0p2585t?page={i}\",\n",
    "            f\"https://www.bbc.com/urdu/topics/ckdxnx900n5t?page={i}\",\n",
    "            f\"https://www.bbc.com/urdu/topics/c40379e2ymxt?page={i}\"]\n",
    "\n",
    "    for top_url in urls:\n",
    "        top_page = requests.get(top_url, headers=headers)\n",
    "        top_soup = BeautifulSoup(top_page.content, \"html.parser\")\n",
    "        topic = top_soup.find(\"h1\", id=\"content\").text.strip()\n",
    "\n",
    "        a_tags = top_soup.find_all('a', class_='focusIndicatorDisplayBlock bbc-uk8dsi e1d658bg0')\n",
    "\n",
    "        for a_tag in a_tags:\n",
    "            if a_tag is not None:\n",
    "                link = a_tag.get('href')\n",
    "                title = a_tag.text\n",
    "\n",
    "            for time_tag in top_soup.find_all('time'):\n",
    "                if time_tag is not None:\n",
    "                    timestamp = time_tag.get('datetime')\n",
    "\n",
    "            if df['Link'].str.contains(link).any():\n",
    "                continue\n",
    "\n",
    "            with open('BBC_Urdu.csv', '+a', newline='', encoding='utf-8') as f:\n",
    "                fieldnames = ['Title', 'Topic', 'Timestamp', 'Link']\n",
    "                thewriter = csv.DictWriter(f, fieldnames=fieldnames)\n",
    "                thewriter.writerow({'Title': title, 'Topic': topic, 'Timestamp': timestamp, 'Link': link})\n",
    "\n",
    "    sleep(5)"
   ]
  },
  {
   "cell_type": "code",
   "execution_count": 35,
   "metadata": {},
   "outputs": [
    {
     "name": "stdout",
     "output_type": "stream",
     "text": [
      "                                                Title    Topic   Timestamp  \\\n",
      "0   ’مینوپاز پر بات کی تو کولیگز بولیں کہ تم کہنا ...  پاکستان  2023-12-20   \n",
      "1   کینیڈا کا ’سٹارٹ اپ ویزا پروگرام‘ کیا ہے اور ا...  پاکستان  2023-12-20   \n",
      "2   ریاض الجنہ جانے کی حد مقرر: ’میرے شوہر کو تو ج...  پاکستان  2023-12-20   \n",
      "3   چٹان عورتوں کی زنانہ وار تحریک: عاصمہ شیرازی ک...  پاکستان  2023-12-20   \n",
      "4   خیبرپختونخوا کا وہ علاقہ جہاں غیر قانونی طور پ...  پاکستان  2023-12-20   \n",
      "5   لائیو , اسلام آباد ہائیکورٹ نے خصوصی عدالت کو ...  پاکستان  2023-12-20   \n",
      "6   سارہ شریف کے بہن بھائیوں کی تحویل کے معاملے پر...  پاکستان  2023-12-20   \n",
      "7   ’کو ورکنگ سپیس‘ کیا ہے اور پاکستان میں چھوٹے ک...  پاکستان  2023-12-20   \n",
      "8   محمد علی جناح کی جائے پیدائش: وزیر مینشن، علی ...  پاکستان  2023-12-20   \n",
      "9   الیکشن ہو رہے ہیں یا منہ پہ مارے جا رہے ہیں؟: ...  پاکستان  2023-12-20   \n",
      "10  ’محبت کی کوئی سرحد نہیں ہوتی‘: گورداسپور کے مق...  پاکستان  2023-12-20   \n",
      "11  جڑانوالہ فسادات کے کئی ماہ بعد بھی مسیحی برادر...  پاکستان  2023-12-20   \n",
      "12  بلوچ یکجہتی مارچ میں آٹھ ماہ کی بچی اور 85 سال...  پاکستان  2023-12-20   \n",
      "13  کیا ماضی میں بھی کسی سیاسی جماعت کے انٹرا پارٹ...  پاکستان  2023-12-20   \n",
      "14           نگران وزیر اعظم کی خواب گاہ سے براہ راست  پاکستان  2023-12-20   \n",
      "15  لائیو , عام انتخابات 2024: مخصوص نشتتوں سمیت 2...  پاکستان  2023-12-20   \n",
      "16  پی ٹی آئی رہنماؤں کی ہراساں کیے جانے کی شکایات...  پاکستان  2023-12-20   \n",
      "17  ویڈیو, بلوچ یکہجتی مارچ کیا ہے اور ان کے مطالب...  پاکستان  2023-12-20   \n",
      "18  لائیو , پی ٹی آئی انٹرا پارٹی انتخابات کالعدم ...  پاکستان  2023-12-20   \n",
      "19  بلوچ یکجہتی مارچ کے شرکا پر پولیس کا کریک ڈاؤن...  پاکستان  2023-12-20   \n",
      "20  بانی پاکستان کی پوشیدہ تصویر میں چھپے ہندسے۔۔۔...  پاکستان  2023-12-20   \n",
      "21  ماہ رنگ بلوچ: ’ریاست یاد رکھے ہم گرفتاریوں اور...  پاکستان  2023-12-20   \n",
      "22  کیا عمران خان جیل سے الیکشن لڑ سکیں گے اور ماض...  پاکستان  2023-12-20   \n",
      "23  پاکستان میں شدت پسند تنظیموں کی نئی حکمت عملی ...  پاکستان  2023-12-20   \n",
      "\n",
      "                                               Link  \n",
      "0    https://www.bbc.com/urdu/articles/c0vyprr71xvo  \n",
      "1    https://www.bbc.com/urdu/articles/cx8v3r1pz4yo  \n",
      "2    https://www.bbc.com/urdu/articles/ceq4g1py016o  \n",
      "3    https://www.bbc.com/urdu/articles/cd17k0jq594o  \n",
      "4    https://www.bbc.com/urdu/articles/c892jel88wlo  \n",
      "5   https://www.bbc.com/urdu/live/pakistan-67821202  \n",
      "6    https://www.bbc.com/urdu/articles/cg6wvz05w97o  \n",
      "7    https://www.bbc.com/urdu/articles/c3gy85rlpl2o  \n",
      "8        https://www.bbc.com/urdu/pakistan-62151862  \n",
      "9    https://www.bbc.com/urdu/articles/cn041wgq48qo  \n",
      "10   https://www.bbc.com/urdu/articles/cz459vddd73o  \n",
      "11   https://www.bbc.com/urdu/articles/c4ny7x24778o  \n",
      "12   https://www.bbc.com/urdu/articles/cw90ndr2y97o  \n",
      "13   https://www.bbc.com/urdu/articles/cw4e0xnpgj8o  \n",
      "14   https://www.bbc.com/urdu/articles/c51z0w2w935o  \n",
      "15  https://www.bbc.com/urdu/live/pakistan-67809813  \n",
      "16   https://www.bbc.com/urdu/articles/c4nye427pe3o  \n",
      "17   https://www.bbc.com/urdu/articles/c2xyd50kx16o  \n",
      "18  https://www.bbc.com/urdu/live/pakistan-67766172  \n",
      "19   https://www.bbc.com/urdu/articles/cxe4ke94mddo  \n",
      "20   https://www.bbc.com/urdu/articles/cp93m1vlw4mo  \n",
      "21   https://www.bbc.com/urdu/articles/c1vyglp73elo  \n",
      "22   https://www.bbc.com/urdu/articles/c4ny70pxeppo  \n",
      "23   https://www.bbc.com/urdu/articles/cl50nkyplx1o  \n"
     ]
    }
   ],
   "source": [
    "df = pd.read_csv('BBC_Urdu.csv', encoding='utf-8')\n",
    "#print all in table format\n",
    "print(df)"
   ]
  },
  {
   "cell_type": "code",
   "execution_count": 2,
   "metadata": {},
   "outputs": [],
   "source": [
    "# with open('BBC_Urdu_P.csv', 'w', newline='', encoding='utf-8') as f:\n",
    "#     fieldnames = ['Title', 'Topic', 'Timestamp', 'Link']\n",
    "#     thewriter = csv.DictWriter(f, fieldnames=fieldnames)\n",
    "#     thewriter.writeheader()\n",
    "\n",
    "# # commented cuz ion wanna accidently snap the data ;)"
   ]
  },
  {
   "cell_type": "code",
   "execution_count": 5,
   "metadata": {},
   "outputs": [],
   "source": [
    "headers = {\"User-Agent\": \"Mozilla/5.0 (Windows NT 10.0; Win64; x64) AppleWebKit/537.36 (KHTML, like Gecko) Chrome/116.0.0.0 Safari/537.36 OPR/102.0.0.0\"}\n",
    "i = 0\n",
    "#Read the existing data\n",
    "df = pd.read_csv('BBC_Urdu_P.csv')\n",
    "\n",
    "for i in range(1, 41, 1):  # (start, end, intervals)\n",
    "    top_url = f\"https://www.bbc.com/urdu/topics/cjgn7n9zxzvt?page={i}\"\n",
    "\n",
    "    top_page = requests.get(top_url, headers=headers)\n",
    "    top_soup = BeautifulSoup(top_page.content, \"html.parser\")\n",
    "    topic = top_soup.find(\"h1\", id=\"content\").text.strip()\n",
    "\n",
    "    a_tags = top_soup.find_all('a', class_='focusIndicatorDisplayBlock bbc-uk8dsi e1d658bg0')\n",
    "\n",
    "    for a_tag in a_tags:\n",
    "        if a_tag is not None:\n",
    "            link = a_tag.get('href')\n",
    "            title = a_tag.text\n",
    "\n",
    "        for time_tag in top_soup.find_all('time'):\n",
    "            if time_tag is not None:\n",
    "                timestamp = time_tag.get('datetime')\n",
    "\n",
    "        if df['Link'].str.contains(link).any():\n",
    "            continue\n",
    "\n",
    "        with open('BBC_Urdu_P.csv', '+a', newline='', encoding='utf-8') as f:\n",
    "            fieldnames = ['Title', 'Topic', 'Timestamp', 'Link']\n",
    "            thewriter = csv.DictWriter(f, fieldnames=fieldnames)\n",
    "            thewriter.writerow({'Title': title, 'Topic': topic, 'Timestamp': timestamp, 'Link': link})\n",
    "\n",
    "sleep(3)"
   ]
  },
  {
   "cell_type": "code",
   "execution_count": 8,
   "metadata": {},
   "outputs": [
    {
     "name": "stdout",
     "output_type": "stream",
     "text": [
      "                                                 Title   Topic   Timestamp  \\\n",
      "0    غزہ پر بمباری: ’ملبے تلے میرے دو بیٹوں اور چھ ...  فلسطین  2023-12-06   \n",
      "1    غزہ جنگ: آنے والے دنوں میں لڑائی میں شدت آئے گ...  فلسطین  2023-12-06   \n",
      "2    ’میں ہوں عونی، ایک نئی ویڈیو کے ساتھ۔۔۔‘: 12 س...  فلسطین  2023-12-06   \n",
      "3    ویڈیو, غزہ: جنگ بندی ہی کرسمس کا تحفہ ہو گادور...  فلسطین  2023-12-06   \n",
      "4    غزہ سے نقل مکانی: ’میں نے 10 لاشیں دیکھیں، ایک...  فلسطین  2023-12-06   \n",
      "..                                                 ...     ...         ...   \n",
      "416  ’میں خود ہی دولھا اور پھر دلھن کا کردار ادا کر...  فلسطین  2019-06-17   \n",
      "417      اسرائیل: سیاہ فام یہودی کے قتل کے خلاف مظاہرے  فلسطین  2019-06-17   \n",
      "418          کیا عرب دنیا میں مذہب سے دوری بڑھ رہی ہے؟  فلسطین  2019-06-17   \n",
      "419  ’فلسطینیوں کو آزادی چاہیے، اربوں ڈالروں کی بات...  فلسطین  2019-06-17   \n",
      "420      گولان کی پہاڑیوں پر نئی ’ٹرمپ بستی‘ کا افتتاح  فلسطین  2019-06-17   \n",
      "\n",
      "                                                Link  \n",
      "0     https://www.bbc.com/urdu/articles/c3gyz34k7mvo  \n",
      "1     https://www.bbc.com/urdu/articles/crg7nk0qxreo  \n",
      "2     https://www.bbc.com/urdu/articles/c1eyv2jgqjeo  \n",
      "3     https://www.bbc.com/urdu/articles/cjlg7p51nrjo  \n",
      "4     https://www.bbc.com/urdu/articles/c0vy4v455lqo  \n",
      "..                                               ...  \n",
      "416  https://www.bbc.com/urdu/entertainment-49002357  \n",
      "417          https://www.bbc.com/urdu/world-48893348  \n",
      "418          https://www.bbc.com/urdu/world-48742741  \n",
      "419          https://www.bbc.com/urdu/world-48738463  \n",
      "420          https://www.bbc.com/urdu/world-48659204  \n",
      "\n",
      "[421 rows x 4 columns]\n"
     ]
    }
   ],
   "source": [
    "df2 = pd.read_csv('BBC_Urdu_P.csv', encoding='utf-8')\n",
    "print(df2)"
   ]
  },
  {
   "cell_type": "code",
   "execution_count": 10,
   "metadata": {},
   "outputs": [],
   "source": [
    "df1 = pd.read_csv('BBC_Urdu.csv', encoding='utf-8')\n",
    "df2 = pd.read_csv('BBC_Urdu_P.csv', encoding='utf-8')\n",
    "merge_df = pd.concat([df1, df2])"
   ]
  },
  {
   "cell_type": "code",
   "execution_count": 12,
   "metadata": {},
   "outputs": [],
   "source": [
    "merge_df.to_csv('BBC_Urdu_Merged.csv', index=False, encoding='utf-8')"
   ]
  },
  {
   "cell_type": "code",
   "execution_count": null,
   "metadata": {},
   "outputs": [],
   "source": []
  }
 ],
 "metadata": {
  "kernelspec": {
   "display_name": "base",
   "language": "python",
   "name": "python3"
  },
  "language_info": {
   "codemirror_mode": {
    "name": "ipython",
    "version": 3
   },
   "file_extension": ".py",
   "mimetype": "text/x-python",
   "name": "python",
   "nbconvert_exporter": "python",
   "pygments_lexer": "ipython3",
   "version": "3.11.4"
  }
 },
 "nbformat": 4,
 "nbformat_minor": 2
}
