{
 "cells": [
  {
   "cell_type": "code",
   "execution_count": 1,
   "metadata": {},
   "outputs": [],
   "source": [
    "import pandas as pd\n",
    "import re\n",
    "\n",
    "import matplotlib as plt\n",
    "\n",
    "from sklearn.model_selection import train_test_split\n",
    "from sklearn.metrics import confusion_matrix, classification_report, f1_score"
   ]
  },
  {
   "cell_type": "code",
   "execution_count": 2,
   "metadata": {},
   "outputs": [
    {
     "data": {
      "text/html": [
       "<div>\n",
       "<style scoped>\n",
       "    .dataframe tbody tr th:only-of-type {\n",
       "        vertical-align: middle;\n",
       "    }\n",
       "\n",
       "    .dataframe tbody tr th {\n",
       "        vertical-align: top;\n",
       "    }\n",
       "\n",
       "    .dataframe thead th {\n",
       "        text-align: right;\n",
       "    }\n",
       "</style>\n",
       "<table border=\"1\" class=\"dataframe\">\n",
       "  <thead>\n",
       "    <tr style=\"text-align: right;\">\n",
       "      <th></th>\n",
       "      <th>Title</th>\n",
       "      <th>Topic</th>\n",
       "      <th>Timestamp</th>\n",
       "      <th>Link</th>\n",
       "    </tr>\n",
       "  </thead>\n",
       "  <tbody>\n",
       "    <tr>\n",
       "      <th>0</th>\n",
       "      <td>’مینوپاز پر بات کی تو کولیگز بولیں کہ تم کہنا ...</td>\n",
       "      <td>پاکستان</td>\n",
       "      <td>2023-12-20</td>\n",
       "      <td>https://www.bbc.com/urdu/articles/c0vyprr71xvo</td>\n",
       "    </tr>\n",
       "    <tr>\n",
       "      <th>1</th>\n",
       "      <td>کینیڈا کا ’سٹارٹ اپ ویزا پروگرام‘ کیا ہے اور ا...</td>\n",
       "      <td>پاکستان</td>\n",
       "      <td>2023-12-20</td>\n",
       "      <td>https://www.bbc.com/urdu/articles/cx8v3r1pz4yo</td>\n",
       "    </tr>\n",
       "    <tr>\n",
       "      <th>2</th>\n",
       "      <td>ریاض الجنہ جانے کی حد مقرر: ’میرے شوہر کو تو ج...</td>\n",
       "      <td>پاکستان</td>\n",
       "      <td>2023-12-20</td>\n",
       "      <td>https://www.bbc.com/urdu/articles/ceq4g1py016o</td>\n",
       "    </tr>\n",
       "    <tr>\n",
       "      <th>3</th>\n",
       "      <td>چٹان عورتوں کی زنانہ وار تحریک: عاصمہ شیرازی ک...</td>\n",
       "      <td>پاکستان</td>\n",
       "      <td>2023-12-20</td>\n",
       "      <td>https://www.bbc.com/urdu/articles/cd17k0jq594o</td>\n",
       "    </tr>\n",
       "    <tr>\n",
       "      <th>4</th>\n",
       "      <td>خیبرپختونخوا کا وہ علاقہ جہاں غیر قانونی طور پ...</td>\n",
       "      <td>پاکستان</td>\n",
       "      <td>2023-12-20</td>\n",
       "      <td>https://www.bbc.com/urdu/articles/c892jel88wlo</td>\n",
       "    </tr>\n",
       "  </tbody>\n",
       "</table>\n",
       "</div>"
      ],
      "text/plain": [
       "                                               Title    Topic   Timestamp  \\\n",
       "0  ’مینوپاز پر بات کی تو کولیگز بولیں کہ تم کہنا ...  پاکستان  2023-12-20   \n",
       "1  کینیڈا کا ’سٹارٹ اپ ویزا پروگرام‘ کیا ہے اور ا...  پاکستان  2023-12-20   \n",
       "2  ریاض الجنہ جانے کی حد مقرر: ’میرے شوہر کو تو ج...  پاکستان  2023-12-20   \n",
       "3  چٹان عورتوں کی زنانہ وار تحریک: عاصمہ شیرازی ک...  پاکستان  2023-12-20   \n",
       "4  خیبرپختونخوا کا وہ علاقہ جہاں غیر قانونی طور پ...  پاکستان  2023-12-20   \n",
       "\n",
       "                                             Link  \n",
       "0  https://www.bbc.com/urdu/articles/c0vyprr71xvo  \n",
       "1  https://www.bbc.com/urdu/articles/cx8v3r1pz4yo  \n",
       "2  https://www.bbc.com/urdu/articles/ceq4g1py016o  \n",
       "3  https://www.bbc.com/urdu/articles/cd17k0jq594o  \n",
       "4  https://www.bbc.com/urdu/articles/c892jel88wlo  "
      ]
     },
     "execution_count": 2,
     "metadata": {},
     "output_type": "execute_result"
    }
   ],
   "source": [
    "data_set = pd.read_csv('BBC_Urdu_Merged.csv')\n",
    "data_set.head()"
   ]
  },
  {
   "cell_type": "code",
   "execution_count": 3,
   "metadata": {},
   "outputs": [
    {
     "data": {
      "text/html": [
       "<div>\n",
       "<style scoped>\n",
       "    .dataframe tbody tr th:only-of-type {\n",
       "        vertical-align: middle;\n",
       "    }\n",
       "\n",
       "    .dataframe tbody tr th {\n",
       "        vertical-align: top;\n",
       "    }\n",
       "\n",
       "    .dataframe thead th {\n",
       "        text-align: right;\n",
       "    }\n",
       "</style>\n",
       "<table border=\"1\" class=\"dataframe\">\n",
       "  <thead>\n",
       "    <tr style=\"text-align: right;\">\n",
       "      <th></th>\n",
       "      <th>Title</th>\n",
       "      <th>Topic</th>\n",
       "      <th>Timestamp</th>\n",
       "      <th>Link</th>\n",
       "    </tr>\n",
       "  </thead>\n",
       "  <tbody>\n",
       "    <tr>\n",
       "      <th>0</th>\n",
       "      <td>’مینوپاز پر بات کی تو کولیگز بولیں کہ تم کہنا ...</td>\n",
       "      <td>پاکستان</td>\n",
       "      <td>2023-12-20</td>\n",
       "      <td>https://www.bbc.com/urdu/articles/c0vyprr71xvo</td>\n",
       "    </tr>\n",
       "    <tr>\n",
       "      <th>1</th>\n",
       "      <td>کینیڈا کا ’سٹارٹ اپ ویزا پروگرام‘ کیا ہے اور ا...</td>\n",
       "      <td>پاکستان</td>\n",
       "      <td>2023-12-20</td>\n",
       "      <td>https://www.bbc.com/urdu/articles/cx8v3r1pz4yo</td>\n",
       "    </tr>\n",
       "    <tr>\n",
       "      <th>2</th>\n",
       "      <td>ریاض الجنہ جانے کی حد مقرر: ’میرے شوہر کو تو ج...</td>\n",
       "      <td>پاکستان</td>\n",
       "      <td>2023-12-20</td>\n",
       "      <td>https://www.bbc.com/urdu/articles/ceq4g1py016o</td>\n",
       "    </tr>\n",
       "    <tr>\n",
       "      <th>3</th>\n",
       "      <td>چٹان عورتوں کی زنانہ وار تحریک: عاصمہ شیرازی ک...</td>\n",
       "      <td>پاکستان</td>\n",
       "      <td>2023-12-20</td>\n",
       "      <td>https://www.bbc.com/urdu/articles/cd17k0jq594o</td>\n",
       "    </tr>\n",
       "    <tr>\n",
       "      <th>4</th>\n",
       "      <td>خیبرپختونخوا کا وہ علاقہ جہاں غیر قانونی طور پ...</td>\n",
       "      <td>پاکستان</td>\n",
       "      <td>2023-12-20</td>\n",
       "      <td>https://www.bbc.com/urdu/articles/c892jel88wlo</td>\n",
       "    </tr>\n",
       "    <tr>\n",
       "      <th>...</th>\n",
       "      <td>...</td>\n",
       "      <td>...</td>\n",
       "      <td>...</td>\n",
       "      <td>...</td>\n",
       "    </tr>\n",
       "    <tr>\n",
       "      <th>6172</th>\n",
       "      <td>’میں خود ہی دولھا اور پھر دلھن کا کردار ادا کر...</td>\n",
       "      <td>فلسطین</td>\n",
       "      <td>2019-06-17</td>\n",
       "      <td>https://www.bbc.com/urdu/entertainment-49002357</td>\n",
       "    </tr>\n",
       "    <tr>\n",
       "      <th>6173</th>\n",
       "      <td>اسرائیل: سیاہ فام یہودی کے قتل کے خلاف مظاہرے</td>\n",
       "      <td>فلسطین</td>\n",
       "      <td>2019-06-17</td>\n",
       "      <td>https://www.bbc.com/urdu/world-48893348</td>\n",
       "    </tr>\n",
       "    <tr>\n",
       "      <th>6174</th>\n",
       "      <td>کیا عرب دنیا میں مذہب سے دوری بڑھ رہی ہے؟</td>\n",
       "      <td>فلسطین</td>\n",
       "      <td>2019-06-17</td>\n",
       "      <td>https://www.bbc.com/urdu/world-48742741</td>\n",
       "    </tr>\n",
       "    <tr>\n",
       "      <th>6175</th>\n",
       "      <td>’فلسطینیوں کو آزادی چاہیے، اربوں ڈالروں کی بات...</td>\n",
       "      <td>فلسطین</td>\n",
       "      <td>2019-06-17</td>\n",
       "      <td>https://www.bbc.com/urdu/world-48738463</td>\n",
       "    </tr>\n",
       "    <tr>\n",
       "      <th>6176</th>\n",
       "      <td>گولان کی پہاڑیوں پر نئی ’ٹرمپ بستی‘ کا افتتاح</td>\n",
       "      <td>فلسطین</td>\n",
       "      <td>2019-06-17</td>\n",
       "      <td>https://www.bbc.com/urdu/world-48659204</td>\n",
       "    </tr>\n",
       "  </tbody>\n",
       "</table>\n",
       "<p>6177 rows × 4 columns</p>\n",
       "</div>"
      ],
      "text/plain": [
       "                                                  Title    Topic   Timestamp  \\\n",
       "0     ’مینوپاز پر بات کی تو کولیگز بولیں کہ تم کہنا ...  پاکستان  2023-12-20   \n",
       "1     کینیڈا کا ’سٹارٹ اپ ویزا پروگرام‘ کیا ہے اور ا...  پاکستان  2023-12-20   \n",
       "2     ریاض الجنہ جانے کی حد مقرر: ’میرے شوہر کو تو ج...  پاکستان  2023-12-20   \n",
       "3     چٹان عورتوں کی زنانہ وار تحریک: عاصمہ شیرازی ک...  پاکستان  2023-12-20   \n",
       "4     خیبرپختونخوا کا وہ علاقہ جہاں غیر قانونی طور پ...  پاکستان  2023-12-20   \n",
       "...                                                 ...      ...         ...   \n",
       "6172  ’میں خود ہی دولھا اور پھر دلھن کا کردار ادا کر...   فلسطین  2019-06-17   \n",
       "6173      اسرائیل: سیاہ فام یہودی کے قتل کے خلاف مظاہرے   فلسطین  2019-06-17   \n",
       "6174          کیا عرب دنیا میں مذہب سے دوری بڑھ رہی ہے؟   فلسطین  2019-06-17   \n",
       "6175  ’فلسطینیوں کو آزادی چاہیے، اربوں ڈالروں کی بات...   فلسطین  2019-06-17   \n",
       "6176      گولان کی پہاڑیوں پر نئی ’ٹرمپ بستی‘ کا افتتاح   فلسطین  2019-06-17   \n",
       "\n",
       "                                                 Link  \n",
       "0      https://www.bbc.com/urdu/articles/c0vyprr71xvo  \n",
       "1      https://www.bbc.com/urdu/articles/cx8v3r1pz4yo  \n",
       "2      https://www.bbc.com/urdu/articles/ceq4g1py016o  \n",
       "3      https://www.bbc.com/urdu/articles/cd17k0jq594o  \n",
       "4      https://www.bbc.com/urdu/articles/c892jel88wlo  \n",
       "...                                               ...  \n",
       "6172  https://www.bbc.com/urdu/entertainment-49002357  \n",
       "6173          https://www.bbc.com/urdu/world-48893348  \n",
       "6174          https://www.bbc.com/urdu/world-48742741  \n",
       "6175          https://www.bbc.com/urdu/world-48738463  \n",
       "6176          https://www.bbc.com/urdu/world-48659204  \n",
       "\n",
       "[6177 rows x 4 columns]"
      ]
     },
     "execution_count": 3,
     "metadata": {},
     "output_type": "execute_result"
    }
   ],
   "source": [
    "data_set.dropna()"
   ]
  },
  {
   "cell_type": "code",
   "execution_count": 4,
   "metadata": {},
   "outputs": [
    {
     "data": {
      "text/plain": [
       "(6177, 4)"
      ]
     },
     "execution_count": 4,
     "metadata": {},
     "output_type": "execute_result"
    }
   ],
   "source": [
    "data_set.shape"
   ]
  },
  {
   "cell_type": "code",
   "execution_count": 5,
   "metadata": {},
   "outputs": [
    {
     "name": "stdout",
     "output_type": "stream",
     "text": [
      "0\n"
     ]
    }
   ],
   "source": [
    "print(data_set['Title'].isna().sum())\n"
   ]
  },
  {
   "cell_type": "code",
   "execution_count": 6,
   "metadata": {},
   "outputs": [],
   "source": [
    "data_set['Title'] = data_set['Title'].fillna('')\n",
    "data_set['Topic'] = data_set['Topic'].fillna('')\n"
   ]
  },
  {
   "cell_type": "code",
   "execution_count": 7,
   "metadata": {},
   "outputs": [
    {
     "name": "stdout",
     "output_type": "stream",
     "text": [
      "['اب', 'ابھی', 'اپنا', 'اپنے', 'اپنی', 'اٹھا', 'اس', 'اسے', 'اسی', 'اگر', 'ان', 'انہوں', 'انہی', 'انہیں', 'انھیں', 'او', 'اور', 'اے', 'ایسا', 'ایسے', 'ایسی', 'ایک', 'آ', 'آپ', 'آتا', 'آتے', 'آتی', 'آگے', 'آنا', 'آنے', 'آنی', 'آئے', 'آئی', 'آئیں', 'آیا', 'با', 'بڑا', 'بڑے', 'بڑی', 'بعد', 'بعض', 'بلکہ', 'بہت', 'بھی', 'بے', 'پاس', 'پر', 'پہلے', 'پھر', 'تا', 'تاکہ', 'تب', 'تجھ', 'تجھے', 'تک', 'تم', 'تمام', 'تمہارا', 'تمہارے', 'تمھارے', 'تمہاری', 'تمہیں', 'تمھیں', 'تھا', 'تھے', 'تھی', 'تھیں', 'تو', 'تیری', 'تیرے', 'جا', 'جاتا', 'جاتی', 'جاتے', 'جاتی', 'جانے', 'جانی', 'جاؤ', 'جائے', 'جائیں', 'جب', 'جس', 'جن', 'جنہوں', 'جنہیں', 'جو', 'جیسا', 'جیسے', 'جیسی', 'جیسوں', 'چاہیئے', 'چلا', 'چاہے', 'چونکہ', 'حالاں', 'حالانکہ', 'دو', 'دونوں', 'دوں', 'دے', 'دی', 'دیا', 'دیں', 'دیے', 'دیتا', 'دیتے', 'دیتی', 'دینا', 'دینے', 'دینی', 'دیئے', 'ڈالا', 'ڈالنا', 'ڈالنے', 'ڈالنی', 'ڈالے', 'ڈالی', 'ذرا', 'رکھا', 'رکھتا', 'رکھتے', 'رکھتی', 'رکھنا', 'رکھنے', 'رکھنی', 'رکھے', 'رکھی', 'رہ', 'رہا', 'رہتا', 'رہتے', 'رہتی', 'رہنا', 'رہنے', 'رہنی', 'رہو', 'رہے', 'رہی', 'رہیں', 'زیادہ', 'سا', 'سامنے', 'سب', 'سکتا', 'سو', 'سے', 'سی', 'شاید', 'صرف', 'طرح', 'طرف', 'عین', 'کا', 'کبھی', 'کچھ', 'کہہ', 'کر', 'کرتا', 'کرتے', 'کرتی', 'کرنا', 'کرنے', 'کرو', 'کروں', 'کرے', 'کریں', 'کس', 'کسے', 'کسی', 'کہ', 'کہا', 'کہے', 'کو', 'کون', 'کوئی', 'کے', 'کی', 'کیا', 'کیسے', 'کیوں', 'کیونکہ', 'کیے', 'کئے', 'گا', 'گویا', 'گے', 'گی', 'گیا', 'گئے', 'گئی', 'لا', 'لاتا', 'لاتے', 'لاتی', 'لانا', 'لانے', 'لانی', 'لایا', 'لائے', 'لائی', 'لگا', 'لگے', 'لگی', 'لگیں', 'لو', 'لے', 'لی', 'لیا', 'لیتا', 'لیتے', 'لیتی', 'لیکن', 'لیں', 'لیے', 'لئے', 'مجھ', 'مجھے', 'مگر', 'میرا', 'میرے', 'میری', 'میں', 'نا', 'نہ', 'نہایت', 'نہیں', 'نے', 'ہاں', 'ہر', 'ہم', 'ہمارا', 'ہمارے', 'ہماری', 'ہو', 'ہوا', 'ہوتا', 'ہوتے', 'ہوتی', 'ہوتیں', 'ہوں', 'ہونا', 'ہونگے', 'ہونے', 'ہونی', 'ہوئے', 'ہوئی', 'ہوئیں', 'ہے', 'ہی', 'ہیں', 'و', 'والا', 'والوں', 'والے', 'والی', 'وہ', 'وہاں', 'وہی', 'وہیں', 'یا', 'یعنی', 'یہ', 'یہاں', 'یہی', 'یہیں', '']\n"
     ]
    }
   ],
   "source": [
    "import requests\n",
    "\n",
    "github_file_url = \"https://raw.githubusercontent.com/Delta-Sigma/urdu-stopwords/master/urdu_stopwords.txt\"\n",
    "\n",
    "response = requests.get(github_file_url)\n",
    "\n",
    "if response.status_code == 200:\n",
    "    content = response.text\n",
    "    stop_words = content.split(\"\\n\")\n",
    "    print(stop_words)\n",
    "else:\n",
    "    print(f\"Failed to fetch file from GitHub. Status code: {response.status_code}\")\n"
   ]
  },
  {
   "cell_type": "code",
   "execution_count": 8,
   "metadata": {},
   "outputs": [],
   "source": [
    "data_set['Title'] = data_set['Title'].apply(lambda x: ' '.join([word for word in x.split() if word not in (stop_words)]))"
   ]
  },
  {
   "cell_type": "code",
   "execution_count": 9,
   "metadata": {},
   "outputs": [
    {
     "name": "stdout",
     "output_type": "stream",
     "text": [
      "0       ’مینوپاز بات کولیگز بولیں کہنا چاہتی بچے پیدا ...\n",
      "1       کینیڈا ’سٹارٹ اپ ویزا پروگرام‘ کن شرائط خیال ض...\n",
      "2       ریاض الجنہ حد مقرر: ’میرے شوہر روضہ رسول دیکھے...\n",
      "3          چٹان عورتوں زنانہ وار تحریک: عاصمہ شیرازی کالم\n",
      "4       خیبرپختونخوا علاقہ جہاں غیر قانونی طور پانی سو...\n",
      "                              ...                        \n",
      "6172                   ’میں خود دولھا دلھن کردار ادا ہوں‘\n",
      "6173              اسرائیل: سیاہ فام یہودی قتل خلاف مظاہرے\n",
      "6174                           عرب دنیا مذہب دوری بڑھ ہے؟\n",
      "6175     ’فلسطینیوں آزادی چاہیے، اربوں ڈالروں باتیں نہیں‘\n",
      "6176                 گولان پہاڑیوں نئی ’ٹرمپ بستی‘ افتتاح\n",
      "Name: Title, Length: 6177, dtype: object\n"
     ]
    }
   ],
   "source": [
    "print(data_set['Title'])"
   ]
  },
  {
   "cell_type": "code",
   "execution_count": 10,
   "metadata": {},
   "outputs": [],
   "source": [
    "# removing special characters\n",
    "import re\n",
    "\n",
    "pattern = r'[!@#$%^&*(){};:,.<>\\\"|+=~`-]'\n",
    "data_set['Title'] = data_set['Title'].apply(lambda x: re.sub(pattern, '', x) if isinstance(x, str) else '')"
   ]
  },
  {
   "cell_type": "code",
   "execution_count": 11,
   "metadata": {},
   "outputs": [
    {
     "name": "stdout",
     "output_type": "stream",
     "text": [
      "0       ’مینوپاز بات کولیگز بولیں کہنا چاہتی بچے پیدا ...\n",
      "1       کینیڈا ’سٹارٹ اپ ویزا پروگرام‘ کن شرائط خیال ض...\n",
      "2       ریاض الجنہ حد مقرر ’میرے شوہر روضہ رسول دیکھے ...\n",
      "3           چٹان عورتوں زنانہ وار تحریک عاصمہ شیرازی کالم\n",
      "4       خیبرپختونخوا علاقہ جہاں غیر قانونی طور پانی سو...\n",
      "                              ...                        \n",
      "6172                   ’میں خود دولھا دلھن کردار ادا ہوں‘\n",
      "6173               اسرائیل سیاہ فام یہودی قتل خلاف مظاہرے\n",
      "6174                           عرب دنیا مذہب دوری بڑھ ہے؟\n",
      "6175     ’فلسطینیوں آزادی چاہیے، اربوں ڈالروں باتیں نہیں‘\n",
      "6176                 گولان پہاڑیوں نئی ’ٹرمپ بستی‘ افتتاح\n",
      "Name: Title, Length: 6177, dtype: object\n"
     ]
    }
   ],
   "source": [
    "print(data_set['Title'])"
   ]
  },
  {
   "cell_type": "code",
   "execution_count": 12,
   "metadata": {},
   "outputs": [
    {
     "name": "stdout",
     "output_type": "stream",
     "text": [
      "پاکستان\n",
      "آس پاس\n",
      "ورلڈ\n",
      "کھیل\n",
      "فن فنکار\n",
      "سائنس\n",
      "فلسطین\n"
     ]
    }
   ],
   "source": [
    "type_of_news = data_set['Topic'].unique()\n",
    "for i in range(len(type_of_news)):\n",
    "    print(type_of_news[i])"
   ]
  },
  {
   "cell_type": "code",
   "execution_count": 13,
   "metadata": {},
   "outputs": [
    {
     "data": {
      "image/png": "[encoded data removed]",
      "text/plain": [
       "<Figure size 1000x600 with 1 Axes>"
      ]
     },
     "metadata": {},
     "output_type": "display_data"
    }
   ],
   "source": [
    "# bar graph of type of media\n",
    "import matplotlib.pyplot as plt\n",
    "\n",
    "type_of_news_mapping = {'پاکستان': 1, 'آس پاس': 2, 'ورلڈ': 3, 'کھیل': 4, 'فن فنکار': 5, 'سائنس': 6, 'فلسطین': 7}\n",
    "type_of_news_counts = data_set['Topic'].map(type_of_news_mapping).value_counts()\n",
    "\n",
    "plt.figure(figsize=(10, 6))\n",
    "type_of_news_counts.plot(kind='bar', color='green')\n",
    "plt.xlabel('Type of News')\n",
    "plt.ylabel('Count')\n",
    "plt.title('Type of News vs Count')\n",
    "plt.show()"
   ]
  },
  {
   "cell_type": "code",
   "execution_count": 14,
   "metadata": {},
   "outputs": [
    {
     "data": {
      "image/png": "[encoded data removed]",
      "text/plain": [
       "<Figure size 1000x600 with 1 Axes>"
      ]
     },
     "metadata": {},
     "output_type": "display_data"
    }
   ],
   "source": [
    "# scatter plot of type of media\n",
    "import matplotlib.pyplot as plt\n",
    "\n",
    "type_of_news_mapping = {'پاکستان': 1, 'آس پاس': 2, 'ورلڈ': 3, 'کھیل': 4, 'فن فنکار': 5, 'سائنس': 6, 'فلسطین': 7}\n",
    "type_of_news_counts = data_set['Topic'].map(type_of_news_mapping).value_counts()\n",
    "\n",
    "plt.figure(figsize=(10, 6))\n",
    "plt.scatter(type_of_news_counts.index, type_of_news_counts.values, color='green')\n",
    "plt.xlabel('Type of News')\n",
    "plt.ylabel('Count')\n",
    "plt.title('Type of News vs Count')\n",
    "plt.xticks(list(type_of_news_mapping.values()), list(type_of_news_mapping.keys()), rotation='vertical')\n",
    "plt.show()"
   ]
  },
  {
   "cell_type": "code",
   "execution_count": 15,
   "metadata": {},
   "outputs": [
    {
     "data": {
      "image/png": "[encoded data removed]",
      "text/plain": [
       "<Figure size 1000x600 with 1 Axes>"
      ]
     },
     "metadata": {},
     "output_type": "display_data"
    }
   ],
   "source": [
    "# histogram graph of type of media\n",
    "import matplotlib.pyplot as plt\n",
    "\n",
    "type_of_news_mapping = {'پاکستان': 1, 'آس پاس': 2, 'ورلڈ': 3, 'کھیل': 4, 'فن فنکار': 5, 'سائنس': 6, 'فلسطین': 7}\n",
    "type_of_news_counts = data_set['Topic'].map(type_of_news_mapping)\n",
    "\n",
    "plt.figure(figsize=(10, 6))\n",
    "plt.hist(type_of_news_counts, bins=len(type_of_news_mapping), color='green')\n",
    "plt.xlabel('Type of News')\n",
    "plt.ylabel('Count')\n",
    "plt.title('Distribution of Type of News')\n",
    "plt.xticks(list(type_of_news_mapping.values()), list(type_of_news_mapping.keys()), rotation='vertical')\n",
    "plt.show()"
   ]
  },
  {
   "cell_type": "code",
   "execution_count": 16,
   "metadata": {},
   "outputs": [
    {
     "name": "stdout",
     "output_type": "stream",
     "text": [
      "  (0, 8827)\t0.18434264252794386\n",
      "  (0, 9378)\t0.266282210984762\n",
      "  (0, 442)\t0.23554109759527986\n",
      "  (0, 4342)\t0.17618238260638436\n",
      "  (0, 7754)\t0.2158211376676886\n",
      "  (0, 1862)\t0.18110085866060185\n",
      "  (0, 7858)\t0.22120055646531114\n",
      "  (0, 8769)\t0.266282210984762\n",
      "  (0, 1809)\t0.2798853703644682\n",
      "  (0, 8626)\t0.30314012492212933\n",
      "  (0, 1414)\t0.3546921327916206\n",
      "  (0, 6482)\t0.5597707407289364\n",
      "  (1, 9419)\t0.1296268726467256\n",
      "  (1, 4774)\t0.299661351423096\n",
      "  (1, 3020)\t0.3374365310685955\n",
      "  (1, 4552)\t0.38861266895975083\n",
      "  (1, 8556)\t0.2656787065454134\n",
      "  (1, 7473)\t0.3782180781934101\n",
      "  (1, 7087)\t0.3374365310685955\n",
      "  (1, 1185)\t0.297967254613819\n",
      "  (1, 4259)\t0.3697250791370011\n",
      "  (1, 8819)\t0.2748419693695989\n",
      "  (2, 8849)\t0.23445614217275695\n",
      "  (2, 6936)\t0.22797803387071258\n",
      "  (2, 1691)\t0.24220569320614363\n",
      "  :\t:\n",
      "  (6173, 6074)\t0.40426056034478086\n",
      "  (6173, 4416)\t0.46752001312640196\n",
      "  (6173, 9500)\t0.4082332551171909\n",
      "  (6173, 2968)\t0.27991478949031584\n",
      "  (6173, 5320)\t0.2658388643020012\n",
      "  (6173, 744)\t0.23532545736097757\n",
      "  (6174, 3218)\t0.5990389511412717\n",
      "  (6174, 1864)\t0.4431483685579235\n",
      "  (6174, 5910)\t0.4431483685579235\n",
      "  (6174, 4902)\t0.34666628904890345\n",
      "  (6174, 3205)\t0.3068839543391099\n",
      "  (6174, 9419)\t0.18448876526965036\n",
      "  (6175, 8098)\t0.5020849530440743\n",
      "  (6175, 478)\t0.3980737719378069\n",
      "  (6175, 1417)\t0.39012203005608337\n",
      "  (6175, 699)\t0.3741362851370669\n",
      "  (6175, 7862)\t0.32548876323679776\n",
      "  (6175, 5185)\t0.34630950418373574\n",
      "  (6175, 6839)\t0.2672107897321654\n",
      "  (6176, 7703)\t0.458791781497749\n",
      "  (6176, 9049)\t0.458791781497749\n",
      "  (6176, 7165)\t0.3637491501937982\n",
      "  (6176, 812)\t0.423596538787656\n",
      "  (6176, 1669)\t0.423596538787656\n",
      "  (6176, 6536)\t0.2963759484974589\n"
     ]
    }
   ],
   "source": [
    "# tf-id feature techinque\n",
    "from sklearn.feature_extraction.text import TfidfVectorizer\n",
    "\n",
    "tfidf = TfidfVectorizer()\n",
    "tfidf_matrix = tfidf.fit_transform(data_set['Title'])\n",
    "y = data_set['Topic']\n",
    "print(tfidf_matrix)"
   ]
  },
  {
   "cell_type": "code",
   "execution_count": 17,
   "metadata": {},
   "outputs": [
    {
     "data": {
      "text/html": [
       "<style>#sk-container-id-1 {color: black;}#sk-container-id-1 pre{padding: 0;}#sk-container-id-1 div.sk-toggleable {background-color: white;}#sk-container-id-1 label.sk-toggleable__label {cursor: pointer;display: block;width: 100%;margin-bottom: 0;padding: 0.3em;box-sizing: border-box;text-align: center;}#sk-container-id-1 label.sk-toggleable__label-arrow:before {content: \"▸\";float: left;margin-right: 0.25em;color: #696969;}#sk-container-id-1 label.sk-toggleable__label-arrow:hover:before {color: black;}#sk-container-id-1 div.sk-estimator:hover label.sk-toggleable__label-arrow:before {color: black;}#sk-container-id-1 div.sk-toggleable__content {max-height: 0;max-width: 0;overflow: hidden;text-align: left;background-color: #f0f8ff;}#sk-container-id-1 div.sk-toggleable__content pre {margin: 0.2em;color: black;border-radius: 0.25em;background-color: #f0f8ff;}#sk-container-id-1 input.sk-toggleable__control:checked~div.sk-toggleable__content {max-height: 200px;max-width: 100%;overflow: auto;}#sk-container-id-1 input.sk-toggleable__control:checked~label.sk-toggleable__label-arrow:before {content: \"▾\";}#sk-container-id-1 div.sk-estimator input.sk-toggleable__control:checked~label.sk-toggleable__label {background-color: #d4ebff;}#sk-container-id-1 div.sk-label input.sk-toggleable__control:checked~label.sk-toggleable__label {background-color: #d4ebff;}#sk-container-id-1 input.sk-hidden--visually {border: 0;clip: rect(1px 1px 1px 1px);clip: rect(1px, 1px, 1px, 1px);height: 1px;margin: -1px;overflow: hidden;padding: 0;position: absolute;width: 1px;}#sk-container-id-1 div.sk-estimator {font-family: monospace;background-color: #f0f8ff;border: 1px dotted black;border-radius: 0.25em;box-sizing: border-box;margin-bottom: 0.5em;}#sk-container-id-1 div.sk-estimator:hover {background-color: #d4ebff;}#sk-container-id-1 div.sk-parallel-item::after {content: \"\";width: 100%;border-bottom: 1px solid gray;flex-grow: 1;}#sk-container-id-1 div.sk-label:hover label.sk-toggleable__label {background-color: #d4ebff;}#sk-container-id-1 div.sk-serial::before {content: \"\";position: absolute;border-left: 1px solid gray;box-sizing: border-box;top: 0;bottom: 0;left: 50%;z-index: 0;}#sk-container-id-1 div.sk-serial {display: flex;flex-direction: column;align-items: center;background-color: white;padding-right: 0.2em;padding-left: 0.2em;position: relative;}#sk-container-id-1 div.sk-item {position: relative;z-index: 1;}#sk-container-id-1 div.sk-parallel {display: flex;align-items: stretch;justify-content: center;background-color: white;position: relative;}#sk-container-id-1 div.sk-item::before, #sk-container-id-1 div.sk-parallel-item::before {content: \"\";position: absolute;border-left: 1px solid gray;box-sizing: border-box;top: 0;bottom: 0;left: 50%;z-index: -1;}#sk-container-id-1 div.sk-parallel-item {display: flex;flex-direction: column;z-index: 1;position: relative;background-color: white;}#sk-container-id-1 div.sk-parallel-item:first-child::after {align-self: flex-end;width: 50%;}#sk-container-id-1 div.sk-parallel-item:last-child::after {align-self: flex-start;width: 50%;}#sk-container-id-1 div.sk-parallel-item:only-child::after {width: 0;}#sk-container-id-1 div.sk-dashed-wrapped {border: 1px dashed gray;margin: 0 0.4em 0.5em 0.4em;box-sizing: border-box;padding-bottom: 0.4em;background-color: white;}#sk-container-id-1 div.sk-label label {font-family: monospace;font-weight: bold;display: inline-block;line-height: 1.2em;}#sk-container-id-1 div.sk-label-container {text-align: center;}#sk-container-id-1 div.sk-container {/* jupyter's `normalize.less` sets `[hidden] { display: none; }` but bootstrap.min.css set `[hidden] { display: none !important; }` so we also need the `!important` here to be able to override the default hidden behavior on the sphinx rendered scikit-learn.org. See: https://github.com/scikit-learn/scikit-learn/issues/21755 */display: inline-block !important;position: relative;}#sk-container-id-1 div.sk-text-repr-fallback {display: none;}</style><div id=\"sk-container-id-1\" class=\"sk-top-container\"><div class=\"sk-text-repr-fallback\"><pre>LogisticRegression(max_iter=1000)</pre><b>In a Jupyter environment, please rerun this cell to show the HTML representation or trust the notebook. <br />On GitHub, the HTML representation is unable to render, please try loading this page with nbviewer.org.</b></div><div class=\"sk-container\" hidden><div class=\"sk-item\"><div class=\"sk-estimator sk-toggleable\"><input class=\"sk-toggleable__control sk-hidden--visually\" id=\"sk-estimator-id-1\" type=\"checkbox\" checked><label for=\"sk-estimator-id-1\" class=\"sk-toggleable__label sk-toggleable__label-arrow\">LogisticRegression</label><div class=\"sk-toggleable__content\"><pre>LogisticRegression(max_iter=1000)</pre></div></div></div></div></div>"
      ],
      "text/plain": [
       "LogisticRegression(max_iter=1000)"
      ]
     },
     "execution_count": 17,
     "metadata": {},
     "output_type": "execute_result"
    }
   ],
   "source": [
    "#Classification LAgorithm 1\n",
    "from sklearn.linear_model import LogisticRegression\n",
    "from sklearn.metrics import classification_report\n",
    "from sklearn.model_selection import train_test_split\n",
    "\n",
    "x_train, x_test, y_train, y_test = train_test_split(tfidf_matrix, y, test_size=0.2, random_state=42)\n",
    "\n",
    "logistic_regression = LogisticRegression(max_iter=1000)\n",
    "logistic_regression.fit(x_train, y_train)\n"
   ]
  },
  {
   "cell_type": "code",
   "execution_count": 18,
   "metadata": {},
   "outputs": [
    {
     "name": "stdout",
     "output_type": "stream",
     "text": [
      "              precision    recall  f1-score   support\n",
      "\n",
      "      آس پاس       0.40      0.34      0.37       204\n",
      "       سائنس       0.25      0.34      0.29       176\n",
      "      فلسطین       0.49      0.31      0.38        84\n",
      "    فن فنکار       0.66      0.75      0.70       183\n",
      "        ورلڈ       0.28      0.28      0.28       201\n",
      "     پاکستان       0.57      0.55      0.56       201\n",
      "        کھیل       0.79      0.74      0.76       187\n",
      "\n",
      "    accuracy                           0.48      1236\n",
      "   macro avg       0.49      0.47      0.48      1236\n",
      "weighted avg       0.49      0.48      0.48      1236\n",
      "\n"
     ]
    }
   ],
   "source": [
    "# classification report of logistic model\n",
    "y_pred = logistic_regression.predict(x_test)\n",
    "logistic_regression_report = classification_report(y_test, y_pred, zero_division=1)\n",
    "print(logistic_regression_report)"
   ]
  },
  {
   "cell_type": "code",
   "execution_count": 19,
   "metadata": {},
   "outputs": [
    {
     "data": {
      "text/html": [
       "<style>#sk-container-id-2 {color: black;}#sk-container-id-2 pre{padding: 0;}#sk-container-id-2 div.sk-toggleable {background-color: white;}#sk-container-id-2 label.sk-toggleable__label {cursor: pointer;display: block;width: 100%;margin-bottom: 0;padding: 0.3em;box-sizing: border-box;text-align: center;}#sk-container-id-2 label.sk-toggleable__label-arrow:before {content: \"▸\";float: left;margin-right: 0.25em;color: #696969;}#sk-container-id-2 label.sk-toggleable__label-arrow:hover:before {color: black;}#sk-container-id-2 div.sk-estimator:hover label.sk-toggleable__label-arrow:before {color: black;}#sk-container-id-2 div.sk-toggleable__content {max-height: 0;max-width: 0;overflow: hidden;text-align: left;background-color: #f0f8ff;}#sk-container-id-2 div.sk-toggleable__content pre {margin: 0.2em;color: black;border-radius: 0.25em;background-color: #f0f8ff;}#sk-container-id-2 input.sk-toggleable__control:checked~div.sk-toggleable__content {max-height: 200px;max-width: 100%;overflow: auto;}#sk-container-id-2 input.sk-toggleable__control:checked~label.sk-toggleable__label-arrow:before {content: \"▾\";}#sk-container-id-2 div.sk-estimator input.sk-toggleable__control:checked~label.sk-toggleable__label {background-color: #d4ebff;}#sk-container-id-2 div.sk-label input.sk-toggleable__control:checked~label.sk-toggleable__label {background-color: #d4ebff;}#sk-container-id-2 input.sk-hidden--visually {border: 0;clip: rect(1px 1px 1px 1px);clip: rect(1px, 1px, 1px, 1px);height: 1px;margin: -1px;overflow: hidden;padding: 0;position: absolute;width: 1px;}#sk-container-id-2 div.sk-estimator {font-family: monospace;background-color: #f0f8ff;border: 1px dotted black;border-radius: 0.25em;box-sizing: border-box;margin-bottom: 0.5em;}#sk-container-id-2 div.sk-estimator:hover {background-color: #d4ebff;}#sk-container-id-2 div.sk-parallel-item::after {content: \"\";width: 100%;border-bottom: 1px solid gray;flex-grow: 1;}#sk-container-id-2 div.sk-label:hover label.sk-toggleable__label {background-color: #d4ebff;}#sk-container-id-2 div.sk-serial::before {content: \"\";position: absolute;border-left: 1px solid gray;box-sizing: border-box;top: 0;bottom: 0;left: 50%;z-index: 0;}#sk-container-id-2 div.sk-serial {display: flex;flex-direction: column;align-items: center;background-color: white;padding-right: 0.2em;padding-left: 0.2em;position: relative;}#sk-container-id-2 div.sk-item {position: relative;z-index: 1;}#sk-container-id-2 div.sk-parallel {display: flex;align-items: stretch;justify-content: center;background-color: white;position: relative;}#sk-container-id-2 div.sk-item::before, #sk-container-id-2 div.sk-parallel-item::before {content: \"\";position: absolute;border-left: 1px solid gray;box-sizing: border-box;top: 0;bottom: 0;left: 50%;z-index: -1;}#sk-container-id-2 div.sk-parallel-item {display: flex;flex-direction: column;z-index: 1;position: relative;background-color: white;}#sk-container-id-2 div.sk-parallel-item:first-child::after {align-self: flex-end;width: 50%;}#sk-container-id-2 div.sk-parallel-item:last-child::after {align-self: flex-start;width: 50%;}#sk-container-id-2 div.sk-parallel-item:only-child::after {width: 0;}#sk-container-id-2 div.sk-dashed-wrapped {border: 1px dashed gray;margin: 0 0.4em 0.5em 0.4em;box-sizing: border-box;padding-bottom: 0.4em;background-color: white;}#sk-container-id-2 div.sk-label label {font-family: monospace;font-weight: bold;display: inline-block;line-height: 1.2em;}#sk-container-id-2 div.sk-label-container {text-align: center;}#sk-container-id-2 div.sk-container {/* jupyter's `normalize.less` sets `[hidden] { display: none; }` but bootstrap.min.css set `[hidden] { display: none !important; }` so we also need the `!important` here to be able to override the default hidden behavior on the sphinx rendered scikit-learn.org. See: https://github.com/scikit-learn/scikit-learn/issues/21755 */display: inline-block !important;position: relative;}#sk-container-id-2 div.sk-text-repr-fallback {display: none;}</style><div id=\"sk-container-id-2\" class=\"sk-top-container\"><div class=\"sk-text-repr-fallback\"><pre>DecisionTreeClassifier()</pre><b>In a Jupyter environment, please rerun this cell to show the HTML representation or trust the notebook. <br />On GitHub, the HTML representation is unable to render, please try loading this page with nbviewer.org.</b></div><div class=\"sk-container\" hidden><div class=\"sk-item\"><div class=\"sk-estimator sk-toggleable\"><input class=\"sk-toggleable__control sk-hidden--visually\" id=\"sk-estimator-id-2\" type=\"checkbox\" checked><label for=\"sk-estimator-id-2\" class=\"sk-toggleable__label sk-toggleable__label-arrow\">DecisionTreeClassifier</label><div class=\"sk-toggleable__content\"><pre>DecisionTreeClassifier()</pre></div></div></div></div></div>"
      ],
      "text/plain": [
       "DecisionTreeClassifier()"
      ]
     },
     "execution_count": 19,
     "metadata": {},
     "output_type": "execute_result"
    }
   ],
   "source": [
    "# desicion tree\n",
    "from sklearn.tree import DecisionTreeClassifier\n",
    "\n",
    "# Split the data\n",
    "x_train, x_test, y_train, y_test = train_test_split(tfidf_matrix, y, test_size=0.2, random_state=42)\n",
    "\n",
    "# Create and train the model\n",
    "decision_tree = DecisionTreeClassifier()\n",
    "decision_tree.fit(x_train, y_train)"
   ]
  },
  {
   "cell_type": "code",
   "execution_count": 20,
   "metadata": {},
   "outputs": [
    {
     "name": "stdout",
     "output_type": "stream",
     "text": [
      "              precision    recall  f1-score   support\n",
      "\n",
      "      آس پاس       0.23      0.26      0.25       204\n",
      "       سائنس       0.14      0.22      0.17       176\n",
      "      فلسطین       0.46      0.43      0.44        84\n",
      "    فن فنکار       0.60      0.48      0.53       183\n",
      "        ورلڈ       0.18      0.16      0.17       201\n",
      "     پاکستان       0.44      0.41      0.42       201\n",
      "        کھیل       0.71      0.54      0.61       187\n",
      "\n",
      "    accuracy                           0.35      1236\n",
      "   macro avg       0.39      0.36      0.37      1236\n",
      "weighted avg       0.39      0.35      0.36      1236\n",
      "\n"
     ]
    }
   ],
   "source": [
    "# calssification report of decision tree\n",
    "y_pred_dt = decision_tree.predict(x_test)\n",
    "\n",
    "# Evaluate and print the classification report\n",
    "decision_tree_report = classification_report(y_test, y_pred_dt, zero_division=1)\n",
    "print(decision_tree_report)\n"
   ]
  },
  {
   "cell_type": "code",
   "execution_count": 21,
   "metadata": {},
   "outputs": [
    {
     "data": {
      "text/html": [
       "<style>#sk-container-id-3 {color: black;}#sk-container-id-3 pre{padding: 0;}#sk-container-id-3 div.sk-toggleable {background-color: white;}#sk-container-id-3 label.sk-toggleable__label {cursor: pointer;display: block;width: 100%;margin-bottom: 0;padding: 0.3em;box-sizing: border-box;text-align: center;}#sk-container-id-3 label.sk-toggleable__label-arrow:before {content: \"▸\";float: left;margin-right: 0.25em;color: #696969;}#sk-container-id-3 label.sk-toggleable__label-arrow:hover:before {color: black;}#sk-container-id-3 div.sk-estimator:hover label.sk-toggleable__label-arrow:before {color: black;}#sk-container-id-3 div.sk-toggleable__content {max-height: 0;max-width: 0;overflow: hidden;text-align: left;background-color: #f0f8ff;}#sk-container-id-3 div.sk-toggleable__content pre {margin: 0.2em;color: black;border-radius: 0.25em;background-color: #f0f8ff;}#sk-container-id-3 input.sk-toggleable__control:checked~div.sk-toggleable__content {max-height: 200px;max-width: 100%;overflow: auto;}#sk-container-id-3 input.sk-toggleable__control:checked~label.sk-toggleable__label-arrow:before {content: \"▾\";}#sk-container-id-3 div.sk-estimator input.sk-toggleable__control:checked~label.sk-toggleable__label {background-color: #d4ebff;}#sk-container-id-3 div.sk-label input.sk-toggleable__control:checked~label.sk-toggleable__label {background-color: #d4ebff;}#sk-container-id-3 input.sk-hidden--visually {border: 0;clip: rect(1px 1px 1px 1px);clip: rect(1px, 1px, 1px, 1px);height: 1px;margin: -1px;overflow: hidden;padding: 0;position: absolute;width: 1px;}#sk-container-id-3 div.sk-estimator {font-family: monospace;background-color: #f0f8ff;border: 1px dotted black;border-radius: 0.25em;box-sizing: border-box;margin-bottom: 0.5em;}#sk-container-id-3 div.sk-estimator:hover {background-color: #d4ebff;}#sk-container-id-3 div.sk-parallel-item::after {content: \"\";width: 100%;border-bottom: 1px solid gray;flex-grow: 1;}#sk-container-id-3 div.sk-label:hover label.sk-toggleable__label {background-color: #d4ebff;}#sk-container-id-3 div.sk-serial::before {content: \"\";position: absolute;border-left: 1px solid gray;box-sizing: border-box;top: 0;bottom: 0;left: 50%;z-index: 0;}#sk-container-id-3 div.sk-serial {display: flex;flex-direction: column;align-items: center;background-color: white;padding-right: 0.2em;padding-left: 0.2em;position: relative;}#sk-container-id-3 div.sk-item {position: relative;z-index: 1;}#sk-container-id-3 div.sk-parallel {display: flex;align-items: stretch;justify-content: center;background-color: white;position: relative;}#sk-container-id-3 div.sk-item::before, #sk-container-id-3 div.sk-parallel-item::before {content: \"\";position: absolute;border-left: 1px solid gray;box-sizing: border-box;top: 0;bottom: 0;left: 50%;z-index: -1;}#sk-container-id-3 div.sk-parallel-item {display: flex;flex-direction: column;z-index: 1;position: relative;background-color: white;}#sk-container-id-3 div.sk-parallel-item:first-child::after {align-self: flex-end;width: 50%;}#sk-container-id-3 div.sk-parallel-item:last-child::after {align-self: flex-start;width: 50%;}#sk-container-id-3 div.sk-parallel-item:only-child::after {width: 0;}#sk-container-id-3 div.sk-dashed-wrapped {border: 1px dashed gray;margin: 0 0.4em 0.5em 0.4em;box-sizing: border-box;padding-bottom: 0.4em;background-color: white;}#sk-container-id-3 div.sk-label label {font-family: monospace;font-weight: bold;display: inline-block;line-height: 1.2em;}#sk-container-id-3 div.sk-label-container {text-align: center;}#sk-container-id-3 div.sk-container {/* jupyter's `normalize.less` sets `[hidden] { display: none; }` but bootstrap.min.css set `[hidden] { display: none !important; }` so we also need the `!important` here to be able to override the default hidden behavior on the sphinx rendered scikit-learn.org. See: https://github.com/scikit-learn/scikit-learn/issues/21755 */display: inline-block !important;position: relative;}#sk-container-id-3 div.sk-text-repr-fallback {display: none;}</style><div id=\"sk-container-id-3\" class=\"sk-top-container\"><div class=\"sk-text-repr-fallback\"><pre>RandomForestClassifier()</pre><b>In a Jupyter environment, please rerun this cell to show the HTML representation or trust the notebook. <br />On GitHub, the HTML representation is unable to render, please try loading this page with nbviewer.org.</b></div><div class=\"sk-container\" hidden><div class=\"sk-item\"><div class=\"sk-estimator sk-toggleable\"><input class=\"sk-toggleable__control sk-hidden--visually\" id=\"sk-estimator-id-3\" type=\"checkbox\" checked><label for=\"sk-estimator-id-3\" class=\"sk-toggleable__label sk-toggleable__label-arrow\">RandomForestClassifier</label><div class=\"sk-toggleable__content\"><pre>RandomForestClassifier()</pre></div></div></div></div></div>"
      ],
      "text/plain": [
       "RandomForestClassifier()"
      ]
     },
     "execution_count": 21,
     "metadata": {},
     "output_type": "execute_result"
    }
   ],
   "source": [
    "# Random Forest\n",
    "from sklearn.ensemble import RandomForestClassifier\n",
    "\n",
    "# Split the data\n",
    "x_train, x_test, y_train, y_test = train_test_split(tfidf_matrix, y, test_size=0.2, random_state=42)\n",
    "\n",
    "# Create and train the model\n",
    "random_forest = RandomForestClassifier()\n",
    "random_forest.fit(x_train, y_train)\n"
   ]
  },
  {
   "cell_type": "code",
   "execution_count": 22,
   "metadata": {},
   "outputs": [
    {
     "name": "stdout",
     "output_type": "stream",
     "text": [
      "              precision    recall  f1-score   support\n",
      "\n",
      "      آس پاس       0.35      0.31      0.33       204\n",
      "       سائنس       0.18      0.33      0.23       176\n",
      "      فلسطین       0.45      0.45      0.45        84\n",
      "    فن فنکار       0.65      0.50      0.57       183\n",
      "        ورلڈ       0.18      0.14      0.16       201\n",
      "     پاکستان       0.54      0.48      0.51       201\n",
      "        کھیل       0.77      0.68      0.72       187\n",
      "\n",
      "    accuracy                           0.41      1236\n",
      "   macro avg       0.45      0.41      0.42      1236\n",
      "weighted avg       0.44      0.41      0.42      1236\n",
      "\n"
     ]
    }
   ],
   "source": [
    "# classification report of random forest\n",
    "y_pred_rf = random_forest.predict(x_test)\n",
    "\n",
    "# Evaluate and print the classification report\n",
    "random_forest_report = classification_report(y_test, y_pred_rf, zero_division=1)\n",
    "print(random_forest_report)"
   ]
  },
  {
   "cell_type": "code",
   "execution_count": 23,
   "metadata": {},
   "outputs": [
    {
     "data": {
      "text/html": [
       "<style>#sk-container-id-4 {color: black;}#sk-container-id-4 pre{padding: 0;}#sk-container-id-4 div.sk-toggleable {background-color: white;}#sk-container-id-4 label.sk-toggleable__label {cursor: pointer;display: block;width: 100%;margin-bottom: 0;padding: 0.3em;box-sizing: border-box;text-align: center;}#sk-container-id-4 label.sk-toggleable__label-arrow:before {content: \"▸\";float: left;margin-right: 0.25em;color: #696969;}#sk-container-id-4 label.sk-toggleable__label-arrow:hover:before {color: black;}#sk-container-id-4 div.sk-estimator:hover label.sk-toggleable__label-arrow:before {color: black;}#sk-container-id-4 div.sk-toggleable__content {max-height: 0;max-width: 0;overflow: hidden;text-align: left;background-color: #f0f8ff;}#sk-container-id-4 div.sk-toggleable__content pre {margin: 0.2em;color: black;border-radius: 0.25em;background-color: #f0f8ff;}#sk-container-id-4 input.sk-toggleable__control:checked~div.sk-toggleable__content {max-height: 200px;max-width: 100%;overflow: auto;}#sk-container-id-4 input.sk-toggleable__control:checked~label.sk-toggleable__label-arrow:before {content: \"▾\";}#sk-container-id-4 div.sk-estimator input.sk-toggleable__control:checked~label.sk-toggleable__label {background-color: #d4ebff;}#sk-container-id-4 div.sk-label input.sk-toggleable__control:checked~label.sk-toggleable__label {background-color: #d4ebff;}#sk-container-id-4 input.sk-hidden--visually {border: 0;clip: rect(1px 1px 1px 1px);clip: rect(1px, 1px, 1px, 1px);height: 1px;margin: -1px;overflow: hidden;padding: 0;position: absolute;width: 1px;}#sk-container-id-4 div.sk-estimator {font-family: monospace;background-color: #f0f8ff;border: 1px dotted black;border-radius: 0.25em;box-sizing: border-box;margin-bottom: 0.5em;}#sk-container-id-4 div.sk-estimator:hover {background-color: #d4ebff;}#sk-container-id-4 div.sk-parallel-item::after {content: \"\";width: 100%;border-bottom: 1px solid gray;flex-grow: 1;}#sk-container-id-4 div.sk-label:hover label.sk-toggleable__label {background-color: #d4ebff;}#sk-container-id-4 div.sk-serial::before {content: \"\";position: absolute;border-left: 1px solid gray;box-sizing: border-box;top: 0;bottom: 0;left: 50%;z-index: 0;}#sk-container-id-4 div.sk-serial {display: flex;flex-direction: column;align-items: center;background-color: white;padding-right: 0.2em;padding-left: 0.2em;position: relative;}#sk-container-id-4 div.sk-item {position: relative;z-index: 1;}#sk-container-id-4 div.sk-parallel {display: flex;align-items: stretch;justify-content: center;background-color: white;position: relative;}#sk-container-id-4 div.sk-item::before, #sk-container-id-4 div.sk-parallel-item::before {content: \"\";position: absolute;border-left: 1px solid gray;box-sizing: border-box;top: 0;bottom: 0;left: 50%;z-index: -1;}#sk-container-id-4 div.sk-parallel-item {display: flex;flex-direction: column;z-index: 1;position: relative;background-color: white;}#sk-container-id-4 div.sk-parallel-item:first-child::after {align-self: flex-end;width: 50%;}#sk-container-id-4 div.sk-parallel-item:last-child::after {align-self: flex-start;width: 50%;}#sk-container-id-4 div.sk-parallel-item:only-child::after {width: 0;}#sk-container-id-4 div.sk-dashed-wrapped {border: 1px dashed gray;margin: 0 0.4em 0.5em 0.4em;box-sizing: border-box;padding-bottom: 0.4em;background-color: white;}#sk-container-id-4 div.sk-label label {font-family: monospace;font-weight: bold;display: inline-block;line-height: 1.2em;}#sk-container-id-4 div.sk-label-container {text-align: center;}#sk-container-id-4 div.sk-container {/* jupyter's `normalize.less` sets `[hidden] { display: none; }` but bootstrap.min.css set `[hidden] { display: none !important; }` so we also need the `!important` here to be able to override the default hidden behavior on the sphinx rendered scikit-learn.org. See: https://github.com/scikit-learn/scikit-learn/issues/21755 */display: inline-block !important;position: relative;}#sk-container-id-4 div.sk-text-repr-fallback {display: none;}</style><div id=\"sk-container-id-4\" class=\"sk-top-container\"><div class=\"sk-text-repr-fallback\"><pre>SVC()</pre><b>In a Jupyter environment, please rerun this cell to show the HTML representation or trust the notebook. <br />On GitHub, the HTML representation is unable to render, please try loading this page with nbviewer.org.</b></div><div class=\"sk-container\" hidden><div class=\"sk-item\"><div class=\"sk-estimator sk-toggleable\"><input class=\"sk-toggleable__control sk-hidden--visually\" id=\"sk-estimator-id-4\" type=\"checkbox\" checked><label for=\"sk-estimator-id-4\" class=\"sk-toggleable__label sk-toggleable__label-arrow\">SVC</label><div class=\"sk-toggleable__content\"><pre>SVC()</pre></div></div></div></div></div>"
      ],
      "text/plain": [
       "SVC()"
      ]
     },
     "execution_count": 23,
     "metadata": {},
     "output_type": "execute_result"
    }
   ],
   "source": [
    "#support vector machine svm\n",
    "from sklearn.svm import SVC\n",
    "\n",
    "# Split the data\n",
    "x_train, x_test, y_train, y_test = train_test_split(tfidf_matrix, y, test_size=0.2, random_state=42)\n",
    "\n",
    "# Create and train the model\n",
    "svm_classifier = SVC()\n",
    "svm_classifier.fit(x_train, y_train)"
   ]
  },
  {
   "cell_type": "code",
   "execution_count": 24,
   "metadata": {},
   "outputs": [
    {
     "name": "stdout",
     "output_type": "stream",
     "text": [
      "              precision    recall  f1-score   support\n",
      "\n",
      "      آس پاس       0.35      0.32      0.34       204\n",
      "       سائنس       0.20      0.35      0.26       176\n",
      "      فلسطین       0.39      0.27      0.32        84\n",
      "    فن فنکار       0.69      0.67      0.68       183\n",
      "        ورلڈ       0.21      0.19      0.20       201\n",
      "     پاکستان       0.59      0.48      0.53       201\n",
      "        کھیل       0.78      0.67      0.72       187\n",
      "\n",
      "    accuracy                           0.43      1236\n",
      "   macro avg       0.46      0.42      0.44      1236\n",
      "weighted avg       0.46      0.43      0.44      1236\n",
      "\n"
     ]
    }
   ],
   "source": [
    "# support vector machines classification report\n",
    "y_pred_svm = svm_classifier.predict(x_test)\n",
    "\n",
    "# Evaluate and print the classification report\n",
    "svm_report = classification_report(y_test, y_pred_svm, zero_division=1)\n",
    "print(svm_report)\n"
   ]
  }
 ],
 "metadata": {
  "kernelspec": {
   "display_name": "base",
   "language": "python",
   "name": "python3"
  },
  "language_info": {
   "codemirror_mode": {
    "name": "ipython",
    "version": 3
   },
   "file_extension": ".py",
   "mimetype": "text/x-python",
   "name": "python",
   "nbconvert_exporter": "python",
   "pygments_lexer": "ipython3",
   "version": "3.11.4"
  }
 },
 "nbformat": 4,
 "nbformat_minor": 2
}
